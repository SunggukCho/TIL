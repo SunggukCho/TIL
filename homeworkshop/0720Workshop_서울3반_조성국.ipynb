{
  "nbformat": 4,
  "nbformat_minor": 0,
  "metadata": {
    "kernelspec": {
      "display_name": "Python 3",
      "language": "python",
      "name": "python3"
    },
    "language_info": {
      "codemirror_mode": {
        "name": "ipython",
        "version": 3
      },
      "file_extension": ".py",
      "mimetype": "text/x-python",
      "name": "python",
      "nbconvert_exporter": "python",
      "pygments_lexer": "ipython3",
      "version": "3.7.1"
    },
    "colab": {
      "name": "sample_0720_workshop.ipynb",
      "provenance": [],
      "collapsed_sections": []
    }
  },
  "cells": [
    {
      "cell_type": "markdown",
      "metadata": {
        "id": "zxDYug980_dI",
        "colab_type": "text"
      },
      "source": [
        "# Workshop\n",
        "> 데이터 & 제어문"
      ]
    },
    {
      "cell_type": "markdown",
      "metadata": {
        "id": "opI5fT5l0_dK",
        "colab_type": "text"
      },
      "source": [
        "## 1. 세로로 출력하기\n",
        "\n",
        "> 자연수 number를 입력 받아, 1부터 number까지의 수를 세로로 한줄씩 출력하시오.\n",
        "\n",
        "---\n",
        "```\n",
        "[입력 예시]\n",
        "\n",
        "10\n",
        "\n",
        "[출력 예시]\n",
        "1\n",
        "2\n",
        "3\n",
        "4\n",
        "5\n",
        "6\n",
        "7\n",
        "8\n",
        "9\n",
        "10\n",
        "```"
      ]
    },
    {
      "cell_type": "code",
      "metadata": {
        "scrolled": false,
        "id": "40YClCI40_dL",
        "colab_type": "code",
        "colab": {
          "base_uri": "https://localhost:8080/",
          "height": 215
        },
        "outputId": "f612037b-7e8c-4410-ba93-86bfb4d9e808"
      },
      "source": [
        "number = int(input(\"숫자를 넣어주세요\"))\n",
        "\n",
        "# 아래에 코드를 작성하시오.\n",
        "\n",
        "for i in range(number):\n",
        "    print(i+1)"
      ],
      "execution_count": 3,
      "outputs": [
        {
          "output_type": "stream",
          "text": [
            "숫자를 넣어주세요10\n",
            "1\n",
            "2\n",
            "3\n",
            "4\n",
            "5\n",
            "6\n",
            "7\n",
            "8\n",
            "9\n",
            "10\n"
          ],
          "name": "stdout"
        }
      ]
    },
    {
      "cell_type": "markdown",
      "metadata": {
        "id": "OetxosVc0_dQ",
        "colab_type": "text"
      },
      "source": [
        "## 2. 가로로 출력하기\n",
        "\n",
        "> 자연수 number를 입력 받아, 1부터 number까지의 수를 가로로 한칸씩 띄어 출력하시오.\n",
        "\n",
        "---\n",
        "```\n",
        "[입력 예시]\n",
        "10\n",
        "\n",
        "[출력 예시]\n",
        "1 2 3 4 5 6 7 8 9 10 \n",
        "```"
      ]
    },
    {
      "cell_type": "code",
      "metadata": {
        "id": "1Whm1WOU0_dR",
        "colab_type": "code",
        "colab": {
          "base_uri": "https://localhost:8080/",
          "height": 53
        },
        "outputId": "66b4894e-568d-4b6d-8df7-4a83227c1965"
      },
      "source": [
        "number = int(input(\"숫자를 넣어주세요: \"))\n",
        "\n",
        "# 아래에 코드를 작성하시오.\n",
        "\n",
        "for i in range(number):\n",
        "    print(i+1, end=\" \")"
      ],
      "execution_count": 4,
      "outputs": [
        {
          "output_type": "stream",
          "text": [
            "숫자를 넣어주세요: 10\n",
            "1 2 3 4 5 6 7 8 9 10 "
          ],
          "name": "stdout"
        }
      ]
    },
    {
      "cell_type": "markdown",
      "metadata": {
        "id": "8R5XYsJ80_dV",
        "colab_type": "text"
      },
      "source": [
        "## 3. 거꾸로 세로로 출력하기\n",
        "\n",
        "> 자연수 number를 입력 받아, number부터 1까지의 수를 세로로 한줄씩 출력하시오.\n",
        "\n",
        "---\n",
        "```\n",
        "[입력 예시]\n",
        "5\n",
        "\n",
        "[출력 예시]\n",
        "5\n",
        "4\n",
        "3\n",
        "2\n",
        "1\n",
        "```"
      ]
    },
    {
      "cell_type": "code",
      "metadata": {
        "scrolled": true,
        "id": "RhWh3wdZ0_dW",
        "colab_type": "code",
        "colab": {
          "base_uri": "https://localhost:8080/",
          "height": 125
        },
        "outputId": "78f6d8ea-f73a-4812-f37a-851cf349a2c9"
      },
      "source": [
        "number = int(input(\"숫자를 넣어주세요: \"))\n",
        "\n",
        "# 아래에 코드를 작성하시오.\n",
        "\n",
        "for i in reversed(range(0, number)):\n",
        "    print(i+1)"
      ],
      "execution_count": 23,
      "outputs": [
        {
          "output_type": "stream",
          "text": [
            "숫자를 넣어주세요: 5\n",
            "5\n",
            "4\n",
            "3\n",
            "2\n",
            "1\n"
          ],
          "name": "stdout"
        }
      ]
    },
    {
      "cell_type": "markdown",
      "metadata": {
        "id": "yQiZaOre0_da",
        "colab_type": "text"
      },
      "source": [
        "## 4. 거꾸로 출력해 보아요 (SWEA #1545)\n",
        "\n",
        "> 자연수 number를 입력 받아, number부터 0까지의 수를 가로로 한칸씩 띄어 출력하시오.\n",
        "\n",
        "---\n",
        "```\n",
        "[입력 예시]\n",
        "5\n",
        "\n",
        "[출력 예시]\n",
        "5 4 3 2 1 0 \n",
        "```"
      ]
    },
    {
      "cell_type": "code",
      "metadata": {
        "id": "ou3saS0X0_db",
        "colab_type": "code",
        "colab": {
          "base_uri": "https://localhost:8080/",
          "height": 53
        },
        "outputId": "8bc31c13-53a9-458b-e388-66ecbb412af3"
      },
      "source": [
        "number = int(input(\"숫자를 넣어주세요: \"))\n",
        "\n",
        "# 아래에 코드를 작성하시오.\n",
        "\n",
        "for i in reversed(range(0, number)):\n",
        "    print(i+1, end=\" \")"
      ],
      "execution_count": 24,
      "outputs": [
        {
          "output_type": "stream",
          "text": [
            "숫자를 넣어주세요: 5\n",
            "5 4 3 2 1 "
          ],
          "name": "stdout"
        }
      ]
    },
    {
      "cell_type": "markdown",
      "metadata": {
        "id": "0rCnWj4b0_df",
        "colab_type": "text"
      },
      "source": [
        "## 5. N줄 덧셈 (SWEA #2025)\n",
        "\n",
        "> 입력으로 자연수 number가 주어질 때, 1부터 주어진 자연수 number까지를 모두 더한 값을 출력하시오. 단, 주어지는 숫자는 10000을 넘지 않는다. 예를 들어, 주어진 숫자가 10일 경우 1 + 2 + 3 + 4 + 5 + 6 + 7 + 8 + 9 + 10 = 55이므로, 출력해야 할 값은 55이다.\n",
        "\n",
        "---\n",
        "```\n",
        "[입력 예시]\n",
        "10\n",
        "\n",
        "[출력 예시]\n",
        "55\n",
        "```"
      ]
    },
    {
      "cell_type": "code",
      "metadata": {
        "id": "ljLwz3XN0_dg",
        "colab_type": "code",
        "colab": {
          "base_uri": "https://localhost:8080/",
          "height": 53
        },
        "outputId": "fafbc554-7cfa-4f00-a752-9786a0450fcc"
      },
      "source": [
        "number = int(input(\"숫자를 넣어주세요: \"))\n",
        "\n",
        "# 아래에 코드를 작성하시오.\n",
        "\n",
        "S = number * (number+1) / 2\n",
        "print(S)"
      ],
      "execution_count": 27,
      "outputs": [
        {
          "output_type": "stream",
          "text": [
            "숫자를 넣어주세요: 10\n",
            "55.0\n"
          ],
          "name": "stdout"
        }
      ]
    },
    {
      "cell_type": "code",
      "metadata": {
        "id": "tLiTH6oI5YqR",
        "colab_type": "code",
        "colab": {}
      },
      "source": [
        ""
      ],
      "execution_count": null,
      "outputs": []
    }
  ]
}